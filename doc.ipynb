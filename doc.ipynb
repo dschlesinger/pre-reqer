{
 "cells": [
  {
   "cell_type": "markdown",
   "metadata": {},
   "source": [
    "## Query Courses"
   ]
  },
  {
   "cell_type": "markdown",
   "metadata": {},
   "source": [
    "### To load pickle file"
   ]
  },
  {
   "cell_type": "code",
   "execution_count": 1,
   "metadata": {},
   "outputs": [],
   "source": [
    "from course import Course\n",
    "import pickle\n",
    "\n",
    "# Should take around a minute, pickle file is in Drive linked in README\n",
    "with open(\"courses_directory.pkl\", \"rb\") as f: \n",
    "    course_directory: dict[str, Course] = pickle.load(f) "
   ]
  },
  {
   "cell_type": "markdown",
   "metadata": {},
   "source": [
    "### Find Class"
   ]
  },
  {
   "cell_type": "code",
   "execution_count": 61,
   "metadata": {},
   "outputs": [],
   "source": [
    "College: str = \"CAS\" # Three letter acronym like \"CAS\"\n",
    "Department: str = \"BI\" # Two letter acronym like \"BI\"\n",
    "Number: int = 203 # Three numbers like \"203\"\n",
    "\n",
    "c: Course = course_directory[f\"{College} {Department} {Number}\"]"
   ]
  },
  {
   "cell_type": "markdown",
   "metadata": {},
   "source": [
    "### Methods"
   ]
  },
  {
   "cell_type": "markdown",
   "metadata": {},
   "source": [
    "#### Get Course Name, Code, and Attr"
   ]
  },
  {
   "cell_type": "code",
   "execution_count": 62,
   "metadata": {},
   "outputs": [],
   "source": [
    "College, Department, Number = c.College, c.Department, c.Number\n",
    "\n",
    "code: str = c.__repr__() # ex. CAS BI 203 \n",
    "\n",
    "class_name: str = c.getCourseName() # ex. Cell Biology"
   ]
  },
  {
   "cell_type": "markdown",
   "metadata": {},
   "source": [
    "#### Get PreReqs and CoReqs and Attr"
   ]
  },
  {
   "cell_type": "code",
   "execution_count": 63,
   "metadata": {},
   "outputs": [],
   "source": [
    "pre_pres, co_reqs, leads_to = [c.UndergradReq + c.GradReq, \\\n",
    "                                c.UndergradCoReq + c.GradCoReq, c.Post]\n",
    "\n",
    "# Returns clips with relivant info for course reqs\n",
    "pre_req_text: dict[str, str] = c.getPreReqsText()"
   ]
  },
  {
   "cell_type": "markdown",
   "metadata": {},
   "source": [
    "#### Hubs"
   ]
  },
  {
   "cell_type": "code",
   "execution_count": 64,
   "metadata": {},
   "outputs": [],
   "source": [
    "Hubs: list[str] = c.getHubs()"
   ]
  },
  {
   "cell_type": "markdown",
   "metadata": {},
   "source": [
    "#### Semesters Offered"
   ]
  },
  {
   "cell_type": "code",
   "execution_count": 65,
   "metadata": {},
   "outputs": [],
   "source": [
    "semesters: list[str] = c.getSemesters()"
   ]
  },
  {
   "cell_type": "markdown",
   "metadata": {},
   "source": [
    "#### tmi (to much information)"
   ]
  },
  {
   "cell_type": "code",
   "execution_count": 66,
   "metadata": {},
   "outputs": [
    {
     "data": {
      "text/plain": [
       "'CAS BI 203 (Cell Biology) = R [CAS BI 108, CAS NE 102, CAS CH 102] C [CAS CH 203] '"
      ]
     },
     "execution_count": 66,
     "metadata": {},
     "output_type": "execute_result"
    }
   ],
   "source": [
    "c.tmi() # returns str"
   ]
  },
  {
   "cell_type": "markdown",
   "metadata": {},
   "source": [
    "#### Webpage and url"
   ]
  },
  {
   "cell_type": "code",
   "execution_count": 67,
   "metadata": {},
   "outputs": [],
   "source": [
    "from bs4 import BeautifulSoup\n",
    "\n",
    "website: BeautifulSoup = c.webpage\n",
    "\n",
    "description: str = c.getDesc() # id='course-content' of course page\n",
    "\n",
    "url: str = c.url\n",
    "\n",
    "link: str = c.link # kwarg for c.__init__() for web scraping\n",
    "\n",
    "valid_link: bool = c.valid_link # False if page not found"
   ]
  },
  {
   "cell_type": "markdown",
   "metadata": {},
   "source": [
    "## Construct Course"
   ]
  },
  {
   "cell_type": "code",
   "execution_count": null,
   "metadata": {},
   "outputs": [],
   "source": [
    "# Careful with this one, it will overwrite the pickle file and remove the Post list if you provide it the course_directory\n",
    "\n",
    "name: str = \"CAS BI 203\"\n",
    "\n",
    "c: Course = Course(name, link=None, cd={})"
   ]
  },
  {
   "cell_type": "markdown",
   "metadata": {},
   "source": [
    "## Webscraping"
   ]
  },
  {
   "cell_type": "code",
   "execution_count": null,
   "metadata": {},
   "outputs": [],
   "source": [
    "# Caution does a lot, broken have to declare BUCourseBranch class in same place as course_directory\n",
    "\n",
    "from main import BUCourseBranch\n",
    "\n",
    "save_branch = BUCourseBranch()\n",
    "\n",
    "save_branch.run() # or save_branch.__repr__()"
   ]
  },
  {
   "cell_type": "markdown",
   "metadata": {},
   "source": [
    "## Other"
   ]
  },
  {
   "cell_type": "code",
   "execution_count": null,
   "metadata": {},
   "outputs": [],
   "source": [
    "# To JSON File\n",
    "\n",
    "from dataclasses import dataclass\n",
    "\n",
    "@dataclass\n",
    "class json_comp():\n",
    "\n",
    "    college: str # ex CAS\n",
    "    department: str # ex BI\n",
    "    number: str # ex 203\n",
    "\n",
    "    name: str # ex Cell Biology\n",
    "\n",
    "    desc: str # Blurb on webpage\n",
    "\n",
    "    valid_link: bool # if webpage exists\n",
    "\n",
    "    uprereqs: list[str] # Undergrad Pre reqs\n",
    "    gprereqs: list[str] # Grad Pre Reqs\n",
    "\n",
    "    uprereqstext: str\n",
    "    gprereqstext: str\n",
    "\n",
    "    ucoreqs: list[str] # Undergrad Co reqs\n",
    "    gcoreqs: list[str] # Grad Co Reqs\n",
    "\n",
    "    ucoreqstext: str\n",
    "    gcoreqstext: str\n",
    "\n",
    "    post: list[str] # Classes lead to\n",
    "\n",
    "    hubs: list[str] # Hubs satisifed\n",
    "\n",
    "    semesters: list[str] # ['FALL', 'SPNG']\n",
    "  \n",
    "\n",
    "to_json: dict[str, json_comp] = {}\n",
    "\n",
    "for name, _class in zip(course_directory.keys(), course_directory.values()):\n",
    "\n",
    "    to_json.__setitem__(name, json_comp(\n",
    "        college=_class.College,\n",
    "        department=_class.Department,\n",
    "        number=_class.Number,\n",
    "        name=_class.getCourseName(),\n",
    "        desc=_class.getDesc(),\n",
    "        valid_link=_class.valid_link,\n",
    "        uprereqs=[c.__repr__() for c in _class.UndergradReq],\n",
    "        gprereqs=[c.__repr__() for c in _class.GradReq],\n",
    "        ucoreqs=[c.__repr__() for c in _class.UndergradCoReq],\n",
    "        gcoreqs=[c.__repr__() for c in _class.GradCoReq],\n",
    "        uprereqstext=_class.getPreReqsText()['upr'] if 'upr' in _class.getPreReqsText() else \"\",\n",
    "        gprereqstext=_class.getPreReqsText()['gpr'] if 'gpr' in _class.getPreReqsText() else \"\",\n",
    "        ucoreqstext=_class.getPreReqsText()['ucr'] if 'ucr' in _class.getPreReqsText() else \"\",\n",
    "        gcoreqstext=_class.getPreReqsText()['gcr'] if 'gcr' in _class.getPreReqsText() else \"\",\n",
    "        post=[c.__repr__() for c in _class.Post],\n",
    "        hubs=_class.getHubs(),\n",
    "        semesters=_class.getSemesters()\n",
    "    ).__dict__)"
   ]
  },
  {
   "cell_type": "code",
   "execution_count": 79,
   "metadata": {},
   "outputs": [],
   "source": [
    "class dummy():\n",
    "\n",
    "    def __init__(self, c):\n",
    "        self.c = c\n",
    "\n",
    "    def __repr__(self):\n",
    "        return self.c\n",
    "\n",
    "    def getHubs(self):\n",
    "\n",
    "        print(self.c)\n",
    "\n",
    "        return []\n",
    "    \n",
    "    def getSemesters(self):\n",
    "\n",
    "        print(self.c)\n",
    "\n",
    "        return []"
   ]
  },
  {
   "cell_type": "code",
   "execution_count": null,
   "metadata": {},
   "outputs": [],
   "source": [
    "def load_courses() -> list[Course]:\n",
    "    courses: list[str] = []\n",
    "\n",
    "    masters = ['MF', 'MS']\n",
    "\n",
    "    with open('my_courses.txt', 'r') as mc:\n",
    "\n",
    "        text = mc.read().split('\\n')\n",
    "\n",
    "        for semester in text:\n",
    "\n",
    "            name, info = semester.split(' ? ')\n",
    "\n",
    "            cs = [course_directory.get(' '.join([i for i in c.split(' ') if i != '']), dummy(' '.join([i for i in c.split(' ') if i != '']))) for c in info.split('|')]\n",
    "\n",
    "            semester = None\n",
    "            \n",
    "            match name[[i for i, a, b in zip(range(name.__len__()), name, name.upper()) if a == b][1]:]:\n",
    "                \n",
    "                case 'F':\n",
    "\n",
    "                    semester = 'FALL'\n",
    "\n",
    "                case 'S':\n",
    "\n",
    "                    semester = 'SPRG'\n",
    "\n",
    "                case 'Sum':\n",
    "\n",
    "                    semester =  'SUMMER'\n",
    "\n",
    "                case _:\n",
    "\n",
    "                    raise ValueError(f'semester not found')\n",
    "\n",
    "            if semester != 'SUMMER':\n",
    "\n",
    "                for c in cs:\n",
    "\n",
    "                    course_sem = c.getSemesters()\n",
    "\n",
    "                    if not course_sem:\n",
    "                        \n",
    "                        print(f'{colors[\"yellow\"]}{c.__repr__()} unclear {colors[\"white\"]}')\n",
    "\n",
    "                    elif semester not in course_sem:\n",
    "\n",
    "                        print(f'{colors[\"red\"]}{c.__repr__()} not in {semester}, {c.getSemesters()}{colors[\"white\"]}')\n",
    "                    \n",
    "                    else:\n",
    "\n",
    "                        print(f'{colors[\"green\"]}{c.__repr__()} in {semester}, {c.getSemesters()}{colors[\"white\"]}')\n",
    "\n",
    "\n",
    "            if '*' not in info and name.replace(' ', '') not in masters:\n",
    "\n",
    "                # f'{Col} {Dep} {Num}' for Col, Dep, Num\n",
    "\n",
    "                courses.extend(cs)\n",
    "\n",
    "    return courses\n",
    "\n",
    "courses = load_courses()"
   ]
  },
  {
   "cell_type": "code",
   "execution_count": null,
   "metadata": {},
   "outputs": [],
   "source": [
    "import numpy as np\n",
    "\n",
    "from collections.abc import Callable\n",
    "\n",
    "from typing import Tuple, Callable, Union\n",
    "\n",
    "from colors import colors\n",
    "\n",
    "def find_courses_with(hub: str) -> list[Course]:\n",
    "    return [c for c in course_directory.values() if hub in c.getHubs()]\n",
    "\n",
    "def course_reports(cs: list[Course]) -> None:\n",
    "    print(*[f'{c.__repr__()}: {c.getCourseName()} -> {c.getSemesters()} | {c.all_reqs} :: {c.getCredits()}' for c in cs], sep='\\n')\n",
    "\n",
    "def hubs_report(cs: list[Course]) -> dict[str, int]:\n",
    "\n",
    "    total = np.unique(sum([c.getHubs() for c in cs], []), return_counts=True)\n",
    "\n",
    "    print(*[f'{name}:{num}' for name, num in zip(*total, [])], sep='\\n')\n",
    "\n",
    "    hubs = {}\n",
    "\n",
    "    [hubs.__setitem__(name, num) for name, num in zip(*total)]\n",
    "\n",
    "    return hubs\n",
    "\n",
    "\n",
    "def check_hub(hub: Union[list[str], str], num: Union[list[int], int]) -> Callable:\n",
    "\n",
    "    def check(user_hubs: dict[str, int]) -> bool:\n",
    "\n",
    "        if isinstance(hub, list):\n",
    "\n",
    "            return sum([h in user_hubs and int(user_hubs[h]) >= int(num) for h, num in zip(hub, num)]).__bool__()\n",
    "        \n",
    "        elif isinstance(hub, str):\n",
    "\n",
    "            return hub in user_hubs and int(user_hubs[hub]) >= int(num)\n",
    "\n",
    "        else:\n",
    "\n",
    "            raise TypeError(f\"hub arg should be of type str or list not {type(hub)}\")\n",
    "        \n",
    "    return check\n",
    "\n",
    "def load_requirements() -> list[str]:\n",
    "\n",
    "    with open('hub_requirements.txt', 'r') as hr:\n",
    "\n",
    "        return hr.read().split('\\n')\n",
    "\n",
    "def check_requirements() -> bool:\n",
    "\n",
    "    checks = [c for c in [l.split(':') if '||' not in l else np.array([o.split(':') for o in l.split(' || ')]).T.tolist() for l in load_requirements()]]\n",
    "\n",
    "    print(checks)\n",
    "\n",
    "    user_hubs = hubs_report(load_courses())\n",
    "\n",
    "    for check in checks:\n",
    "\n",
    "        output: str = f'{\":\".join([*check])}<={user_hubs.get(check[0], 0)}' if isinstance(check[0], str) else ' || '.join([f'{\":\".join([*ch])}<={user_hubs.get(ch[0], 0)}' for ch in np.array(check).T.tolist()])\n",
    "\n",
    "        if check_hub(*check)(user_hubs):\n",
    "\n",
    "            print(f'{colors[\"green\"]}{output}{colors[\"white\"]}')\n",
    "\n",
    "        else:\n",
    "\n",
    "            print(f'{colors[\"red\"]}{output}{colors[\"white\"]}')\n",
    "\n",
    "\n",
    "check_requirements()\n"
   ]
  }
 ],
 "metadata": {
  "kernelspec": {
   "display_name": "Python 3",
   "language": "python",
   "name": "python3"
  },
  "language_info": {
   "codemirror_mode": {
    "name": "ipython",
    "version": 3
   },
   "file_extension": ".py",
   "mimetype": "text/x-python",
   "name": "python",
   "nbconvert_exporter": "python",
   "pygments_lexer": "ipython3",
   "version": "3.10.15"
  }
 },
 "nbformat": 4,
 "nbformat_minor": 2
}
