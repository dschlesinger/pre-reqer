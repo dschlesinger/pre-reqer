{
 "cells": [
  {
   "cell_type": "markdown",
   "metadata": {},
   "source": [
    "## Query Courses"
   ]
  },
  {
   "cell_type": "markdown",
   "metadata": {},
   "source": [
    "### To load pickle file"
   ]
  },
  {
   "cell_type": "code",
   "execution_count": 1,
   "metadata": {},
   "outputs": [],
   "source": [
    "from course import Course\n",
    "import pickle\n",
    "\n",
    "# Should take around a minute, pickle file is in Drive linked in README\n",
    "with open(\"courses_directory.pkl\", \"rb\") as f: \n",
    "    course_directory: dict[str, Course] = pickle.load(f) "
   ]
  },
  {
   "cell_type": "code",
   "execution_count": 2,
   "metadata": {},
   "outputs": [
    {
     "data": {
      "text/plain": [
       "5970"
      ]
     },
     "execution_count": 2,
     "metadata": {},
     "output_type": "execute_result"
    }
   ],
   "source": [
    "course_directory.__len__() # Should == 5970"
   ]
  },
  {
   "cell_type": "markdown",
   "metadata": {},
   "source": [
    "### Find Class"
   ]
  },
  {
   "cell_type": "code",
   "execution_count": 61,
   "metadata": {},
   "outputs": [],
   "source": [
    "College: str = \"CAS\" # Three letter acronym like \"CAS\"\n",
    "Department: str = \"BI\" # Two letter acronym like \"BI\"\n",
    "Number: int = 203 # Three numbers like \"203\"\n",
    "\n",
    "c: Course = course_directory[f\"{College} {Department} {Number}\"]"
   ]
  },
  {
   "cell_type": "markdown",
   "metadata": {},
   "source": [
    "### Methods"
   ]
  },
  {
   "cell_type": "markdown",
   "metadata": {},
   "source": [
    "#### Get Course Name, Code, and Attr"
   ]
  },
  {
   "cell_type": "code",
   "execution_count": 62,
   "metadata": {},
   "outputs": [],
   "source": [
    "College, Department, Number = c.College, c.Department, c.Number\n",
    "\n",
    "code: str = c.__repr__() # ex. CAS BI 203 \n",
    "\n",
    "class_name: str = c.getCourseName() # ex. Cell Biology"
   ]
  },
  {
   "cell_type": "markdown",
   "metadata": {},
   "source": [
    "#### Get PreReqs and CoReqs and Attr"
   ]
  },
  {
   "cell_type": "code",
   "execution_count": 63,
   "metadata": {},
   "outputs": [],
   "source": [
    "pre_pres, co_reqs, leads_to = [c.UndergradReq + c.GradReq, \\\n",
    "                                c.UndergradCoReq + c.GradCoReq, c.Post]\n",
    "\n",
    "# Returns clips with relivant info for course reqs\n",
    "pre_req_text: dict[str, str] = c.getPreReqsText()"
   ]
  },
  {
   "cell_type": "markdown",
   "metadata": {},
   "source": [
    "#### Hubs"
   ]
  },
  {
   "cell_type": "code",
   "execution_count": 64,
   "metadata": {},
   "outputs": [],
   "source": [
    "Hubs: list[str] = c.getHubs()"
   ]
  },
  {
   "cell_type": "markdown",
   "metadata": {},
   "source": [
    "#### Semesters Offered"
   ]
  },
  {
   "cell_type": "code",
   "execution_count": 65,
   "metadata": {},
   "outputs": [],
   "source": [
    "semesters: list[str] = c.getSemesters()"
   ]
  },
  {
   "cell_type": "markdown",
   "metadata": {},
   "source": [
    "#### tmi (to much information)"
   ]
  },
  {
   "cell_type": "code",
   "execution_count": 66,
   "metadata": {},
   "outputs": [
    {
     "data": {
      "text/plain": [
       "'CAS BI 203 (Cell Biology) = R [CAS BI 108, CAS NE 102, CAS CH 102] C [CAS CH 203] '"
      ]
     },
     "execution_count": 66,
     "metadata": {},
     "output_type": "execute_result"
    }
   ],
   "source": [
    "c.tmi() # returns str"
   ]
  },
  {
   "cell_type": "markdown",
   "metadata": {},
   "source": [
    "#### Webpage and url"
   ]
  },
  {
   "cell_type": "code",
   "execution_count": 67,
   "metadata": {},
   "outputs": [],
   "source": [
    "from bs4 import BeautifulSoup\n",
    "\n",
    "website: BeautifulSoup = c.webpage\n",
    "\n",
    "description: str = c.getDesc() # id='course-content' of course page\n",
    "\n",
    "url: str = c.url\n",
    "\n",
    "link: str = c.link # kwarg for c.__init__() for web scraping\n",
    "\n",
    "valid_link: bool = c.valid_link # False if page not found"
   ]
  },
  {
   "cell_type": "markdown",
   "metadata": {},
   "source": [
    "## Construct Course"
   ]
  },
  {
   "cell_type": "code",
   "execution_count": null,
   "metadata": {},
   "outputs": [],
   "source": [
    "# Careful with this one, it will overwrite the pickle file and remove the Post list if you provide it the course_directory\n",
    "\n",
    "name: str = \"CAS BI 203\"\n",
    "\n",
    "c: Course = Course(name, link=None, cd={})"
   ]
  },
  {
   "cell_type": "markdown",
   "metadata": {},
   "source": [
    "## Webscraping"
   ]
  },
  {
   "cell_type": "code",
   "execution_count": null,
   "metadata": {},
   "outputs": [],
   "source": [
    "# Caution does a lot, broken have to declare BUCourseBranch class in same place as course_directory\n",
    "\n",
    "from main import BUCourseBranch\n",
    "\n",
    "save_branch = BUCourseBranch()\n",
    "\n",
    "save_branch.run() # or save_branch.__repr__()"
   ]
  },
  {
   "cell_type": "markdown",
   "metadata": {},
   "source": [
    "## Other"
   ]
  },
  {
   "cell_type": "code",
   "execution_count": 2,
   "metadata": {},
   "outputs": [],
   "source": [
    "# To JSON File\n",
    "\n",
    "from dataclasses import dataclass\n",
    "\n",
    "@dataclass\n",
    "class json_comp():\n",
    "\n",
    "    college: str # ex CAS\n",
    "    department: str # ex BI\n",
    "    number: str # ex 203\n",
    "\n",
    "    name: str # ex Cell Biology\n",
    "\n",
    "    desc: str # Blurb on webpage\n",
    "\n",
    "    valid_link: bool # if webpage exists\n",
    "\n",
    "    uprereqs: list[str] # Undergrad Pre reqs\n",
    "    gprereqs: list[str] # Grad Pre Reqs\n",
    "\n",
    "    uprereqstext: str\n",
    "    gprereqstext: str\n",
    "\n",
    "    ucoreqs: list[str] # Undergrad Co reqs\n",
    "    gcoreqs: list[str] # Grad Co Reqs\n",
    "\n",
    "    ucoreqstext: str\n",
    "    gcoreqstext: str\n",
    "\n",
    "    post: list[str] # Classes lead to\n",
    "\n",
    "    hubs: list[str] # Hubs satisifed\n",
    "\n",
    "    semesters: list[str] # ['FALL', 'SPNG']\n",
    "  \n",
    "\n",
    "to_json: dict[str, json_comp] = {}\n",
    "\n",
    "for name, _class in zip(course_directory.keys(), course_directory.values()):\n",
    "\n",
    "    to_json.__setitem__(name, json_comp(\n",
    "        college=_class.College,\n",
    "        department=_class.Department,\n",
    "        number=_class.Number,\n",
    "        name=_class.getCourseName(),\n",
    "        desc=_class.getDesc(),\n",
    "        valid_link=_class.valid_link,\n",
    "        uprereqs=[c.__repr__() for c in _class.UndergradReq],\n",
    "        gprereqs=[c.__repr__() for c in _class.GradReq],\n",
    "        ucoreqs=[c.__repr__() for c in _class.UndergradCoReq],\n",
    "        gcoreqs=[c.__repr__() for c in _class.GradCoReq],\n",
    "        uprereqstext=_class.getPreReqsText()['upr'] if 'upr' in _class.getPreReqsText() else \"\",\n",
    "        gprereqstext=_class.getPreReqsText()['gpr'] if 'gpr' in _class.getPreReqsText() else \"\",\n",
    "        ucoreqstext=_class.getPreReqsText()['ucr'] if 'ucr' in _class.getPreReqsText() else \"\",\n",
    "        gcoreqstext=_class.getPreReqsText()['gcr'] if 'gcr' in _class.getPreReqsText() else \"\",\n",
    "        post=[c.__repr__() for c in _class.Post],\n",
    "        hubs=_class.getHubs(),\n",
    "        semesters=_class.getSemesters()\n",
    "    ).__dict__)"
   ]
  },
  {
   "cell_type": "code",
   "execution_count": 7,
   "metadata": {},
   "outputs": [
    {
     "name": "stdout",
     "output_type": "stream",
     "text": [
      "{'college': 'CAS', 'department': 'BI', 'number': '203', 'name': 'Cell Biology', 'desc': 'Undergraduate Prerequisites: (CASBI108 OR CASNE102) and CAS CH 102 or equivalent. ; Undergraduate Corequisites: (CASCH203)or equivalent. - Principles of cellular organization and function: biological molecules, flow of genetic information, membranes and subcellular organelles, and cell regulation. Three hours lecture, one hour discussion. Students may receive credit for CAS BI 203 or 213, but not both courses. Effective Fall 2019, this course fulfills a single unit in each of the following BU Hub areas: Scientific Inquiry I, Quantitative Reasoning I, Critical Thinking.', 'valid_link': True, 'uprereqs': ['CAS BI 108', 'CAS NE 102', 'CAS CH 102'], 'gprereqs': [], 'uprereqstext': ' (CASBI108 OR CASNE102) and CAS CH 102 or equivalent. ; ', 'gprereqstext': '', 'ucoreqs': ['CAS CH 203'], 'gcoreqs': [], 'ucoreqstext': ' (CASCH203)or equivalent.', 'gcoreqstext': '', 'post': ['CAS BI 216', 'CAS BI 311', 'CAS BI 325', 'CAS BI 385', 'CAS BI 410', 'CAS BI 411', 'CAS BI 445', 'CAS BI 455', 'CAS BI 481', 'CAS BI 503', 'CAS BI 513', 'CAS BI 535', 'CAS BI 551', 'CAS BI 552', 'CAS BI 561', 'CAS BI 572', 'CAS BI 576', 'CAS BI 611', 'CAS NE 445', 'CAS NE 455', 'CAS NE 481', 'CAS NE 503', 'CAS NE 525'], 'hubs': ['Critical Thinking', 'Quantitative Reasoning I', 'Scientific Inquiry I'], 'semesters': ['SPRG', 'FALL']}\n"
     ]
    }
   ],
   "source": [
    "assert to_json.__len__() == course_directory.__len__()\n",
    "\n",
    "print(to_json['CAS BI 203'])"
   ]
  },
  {
   "cell_type": "code",
   "execution_count": 8,
   "metadata": {},
   "outputs": [],
   "source": [
    "import json\n",
    "\n",
    "with open('course_directory_2.json', 'w') as f:\n",
    "\n",
    "    f.write(json.dumps(to_json))"
   ]
  },
  {
   "cell_type": "code",
   "execution_count": 3,
   "metadata": {},
   "outputs": [],
   "source": [
    "class dummy():\n",
    "\n",
    "    def __init__(self, c):\n",
    "        self.c = c\n",
    "        self.all_reqs = []\n",
    "\n",
    "    def __repr__(self):\n",
    "        return self.c\n",
    "    \n",
    "    def tmi(self):\n",
    "\n",
    "        return \"\"\n",
    "    \n",
    "    def getCourseName(self):\n",
    "\n",
    "        return \"\"\n",
    "    \n",
    "    def getCredits(self):\n",
    "\n",
    "        return None\n",
    "\n",
    "    def getHubs(self):\n",
    "\n",
    "        print(self.c)\n",
    "\n",
    "        return []\n",
    "    \n",
    "    def getSemesters(self):\n",
    "\n",
    "        print(self.c)\n",
    "\n",
    "        return []"
   ]
  },
  {
   "cell_type": "code",
   "execution_count": 4,
   "metadata": {},
   "outputs": [
    {
     "name": "stdout",
     "output_type": "stream",
     "text": [
      "\u001b[93mCDS DS 110 unclear \u001b[00m\n",
      "set() []\n",
      "\u001b[93mCDS DS 120 unclear \u001b[00m\n",
      "set() []\n",
      "CDS DS 109\n",
      "\u001b[93mCDS DS 109 unclear \u001b[00m\n",
      "set() []\n",
      "\u001b[92mCAS CC 101 in FALL, ['FALL']\u001b[00m\n",
      "set() []\n",
      "\u001b[92mHUB IC 203 in FALL, ['FALL']\u001b[00m\n",
      "set() []\n",
      "\u001b[93mCDS DS 210 unclear \u001b[00m\n",
      "{CDS DS 110} [CDS DS 110]\n",
      "\u001b[93mCDS DS 121 unclear \u001b[00m\n",
      "{CDS DS 120} [CDS DS 120]\n",
      "\u001b[93mCDS DS 122 unclear \u001b[00m\n",
      "{CDS DS 110, CDS DS 120} [CDS DS 120, CDS DS 110]\n",
      "\u001b[92mCAS CH 101 in SPRG, ['FALL', 'SPRG']\u001b[00m\n",
      "set() []\n",
      "\u001b[93mCDS DS 310 unclear \u001b[00m\n",
      "{CDS DS 210} [CDS DS 210]\n",
      "\u001b[92mCAS CC 201 in FALL, ['FALL']\u001b[00m\n",
      "{CAS CC 101} [CAS CC 101, CAS WR 120]\n",
      "\u001b[92mCAS BI 218 in FALL, ['FALL']\u001b[00m\n",
      "set() [CAS BI 116, CAS CH 116, CAS WR 120]\n",
      "\u001b[92mCAS CH 218 in FALL, ['FALL']\u001b[00m\n",
      "set() [CAS CH 116, CAS BI 116, CAS NE 116]\n",
      "\u001b[93mCDS DS 320 unclear \u001b[00m\n",
      "{CDS DS 121, CDS DS 210} [CDS DS 121, CDS DS 210]\n",
      "\u001b[92mCAS PY 211 in SPRG, ['FALL', 'SPRG']\u001b[00m\n",
      "set() [CAS MA 123, CAS MA 123]\n",
      "\u001b[92mCAS BI 315 in SPRG, ['FALL', 'SPRG']\u001b[00m\n",
      "{CAS CH 101, CAS CH 102} [CAS BI 108, ENG BE 209, CAS CH 101, CAS CH 102, CAS WR 120]\n",
      "\u001b[92mCAS BI 206 in SPRG, ['SPRG']\u001b[00m\n",
      "set() [CAS BI 108, CAS CH 203]\n",
      "\u001b[93mCDS DS 340 unclear \u001b[00m\n",
      "{CDS DS 320} [CDS DS 320]\n",
      "\u001b[93mCDS DS 596 unclear \u001b[00m\n",
      "{CDS DS 121, CDS DS 110, CDS DS 122, CDS DS 120} [CDS DS 110, CDS DS 120, CDS DS 121, CDS DS 122]\n",
      "\u001b[93mCDS DS 280 unclear \u001b[00m\n",
      "set() []\n",
      "\u001b[92mCAS BI 407 in FALL, ['FALL']\u001b[00m\n",
      "set() [CAS BI 107]\n",
      "\u001b[92mCAS BI 552 in FALL, ['FALL']\u001b[00m\n",
      "{CAS BI 206} [CAS BI 203, CAS BI 213, CAS BI 206, CAS BI 216]\n",
      "\u001b[93mCDS DS 380 unclear \u001b[00m\n",
      "{CDS DS 320, CDS DS 110} [CDS DS 110, CDS DS 320]\n",
      "\u001b[91mQST BA 476 not in SPRG, ['FALL']\u001b[00m\n",
      "{CDS DS 110} [CAS CS 108, CAS CS 111, CDS DS 110, QST BA 222]\n",
      "\u001b[92mCAS BI 449 in SPRG, ['SPRG']\u001b[00m\n",
      "{CAS BI 315} [CAS BI 315, CAS BI 325, CAS NE 203]\n",
      "\u001b[91mQST SI 480 not in SPRG, ['FALL']\u001b[00m\n",
      "set() []\n",
      "\u001b[93mCDS DS 519 unclear \u001b[00m\n",
      "{CDS DS 310} [CDS DS 310, CAS CS 411]\n",
      "\u001b[93mCDS DS 526 unclear \u001b[00m\n",
      "set() []\n",
      "\u001b[92mCAS BI 560 in FALL, ['FALL']\u001b[00m\n",
      "{CAS BI 552} [CAS BI 552]\n",
      "\u001b[92mQST SI 482 in FALL, ['FALL']\u001b[00m\n",
      "{QST SI 480} [QST FE 323, QST MK 323, QST OM 323, QST QM 323, QST SI 480]\n",
      "ENG BF 527\n",
      "\u001b[93mENG BF 527 unclear \u001b[00m\n",
      "set() []\n",
      "ENG BF 528\n",
      "\u001b[93mENG BF 528 unclear \u001b[00m\n",
      "set() []\n",
      "\u001b[91mQST BA 472 not in SPRG, ['FALL']\u001b[00m\n",
      "{CDS DS 110} [CAS CS 108, CAS CS 111, CDS DS 110, QST BA 222]\n",
      "\u001b[92mCAS BI 576 in SPRG, ['SPRG']\u001b[00m\n",
      "{CAS BI 206, CAS BI 552} [CAS BI 203, CAS BI 206, CAS BI 552]\n",
      "ENG BF 550\n",
      "\u001b[93mENG BF 550 unclear \u001b[00m\n",
      "set() []\n",
      "ENG BF 751\n",
      "\u001b[93mENG BF 751 unclear \u001b[00m\n",
      "set() []\n",
      "ENG BE 758\n",
      "\u001b[93mENG BE 758 unclear \u001b[00m\n",
      "set() []\n",
      "ENG BF 831\n",
      "\u001b[93mENG BF 831 unclear \u001b[00m\n",
      "set() []\n",
      "ENG BF 541\n",
      "\u001b[93mENG BF 541 unclear \u001b[00m\n",
      "set() []\n"
     ]
    }
   ],
   "source": [
    "from colors import colors\n",
    "\n",
    "def load_courses(check_semesters: bool = False) -> list[Course]:\n",
    "    courses: list[str] = []\n",
    "\n",
    "    masters = ['MF', 'MS']\n",
    "\n",
    "    with open(f'my_courses.txt', 'r') as mc:\n",
    "\n",
    "        text = mc.read().split('\\n')\n",
    "\n",
    "        \n",
    "\n",
    "        for semester in text:\n",
    "\n",
    "            name, info = semester.split(' ? ')\n",
    "\n",
    "            cs = [course_directory.get(' '.join([i for i in c.split(' ') if i != '']), dummy(' '.join([i for i in c.split(' ') if i != '']))) for c in info.split('|')]\n",
    "\n",
    "            if check_semesters:\n",
    "\n",
    "                semester = None\n",
    "                \n",
    "                match name[[i for i, a, b in zip(range(name.__len__()), name, name.upper()) if a == b][1]:]:\n",
    "                    \n",
    "                    case 'F':\n",
    "\n",
    "                        semester = 'FALL'\n",
    "\n",
    "                    case 'S':\n",
    "\n",
    "                        semester = 'SPRG'\n",
    "\n",
    "                    case 'Sum':\n",
    "\n",
    "                        semester =  'SUMMER'\n",
    "\n",
    "                    case _:\n",
    "\n",
    "                        raise ValueError(f'semester not found')\n",
    "\n",
    "                if semester != 'SUMMER':\n",
    "\n",
    "                    for c in cs:\n",
    "\n",
    "                        course_sem = c.getSemesters()\n",
    "\n",
    "                        pre = c.all_reqs\n",
    "\n",
    "                        if not course_sem:\n",
    "                            \n",
    "                            print(f'{colors[\"yellow\"]}{c.__repr__()} unclear {colors[\"white\"]}')\n",
    "\n",
    "                        elif semester not in course_sem:\n",
    "\n",
    "                            print(f'{colors[\"red\"]}{c.__repr__()} not in {semester}, {c.getSemesters()}{colors[\"white\"]}')\n",
    "                        \n",
    "                        else:\n",
    "\n",
    "                            print(f'{colors[\"green\"]}{c.__repr__()} in {semester}, {c.getSemesters()}{colors[\"white\"]}')\n",
    "\n",
    "                        print(f\"{set(pre) & set(courses)} {pre}\")\n",
    "\n",
    "\n",
    "            if '*' not in info and name.replace(' ', '') not in masters:\n",
    "\n",
    "                # f'{Col} {Dep} {Num}' for Col, Dep, Num\n",
    "\n",
    "                courses.extend(cs)\n",
    "\n",
    "    return courses\n",
    "\n",
    "courses = load_courses(check_semesters=True)"
   ]
  },
  {
   "cell_type": "code",
   "execution_count": 11,
   "metadata": {},
   "outputs": [
    {
     "name": "stdout",
     "output_type": "stream",
     "text": [
      "[['AE', '1'], ['CI', '2'], ['CT', '2'], ['DME', '1'], ['ER', '1'], ['FWS', '1'], ['GCaIL', '2'], ['HC', '1'], ['OaoSC', '1'], ['PIaLM', '1'], ['QRI', '1'], ['QRI', '1'], ['RaIL', '2'], ['SII', '1'], ['SII', '1'], [['SII', 'SII'], ['1', '1']], ['TC', '2'], ['TIiC', '1'], ['WRaI', '1'], ['WC', '2']]\n",
      "CDS DS 109\n",
      "ENG BF 527\n",
      "ENG BF 528\n",
      "\n",
      "\u001b[92mAesthetic Exploration:1<=2\u001b[00m\n",
      "\u001b[92mCreativity/Innovation:2<=2\u001b[00m\n",
      "\u001b[92mCritical Thinking:2<=10\u001b[00m\n",
      "\u001b[92mDigital/Multimedia Expression:1<=4\u001b[00m\n",
      "\u001b[92mEthical Reasoning:1<=4\u001b[00m\n",
      "\u001b[92mFirst-Year Writing Seminar:1<=1\u001b[00m\n",
      "\u001b[92mGlobal Citizenship and Intercultural Literacy:2<=2\u001b[00m\n",
      "\u001b[92mHistorical Consciousness:1<=2\u001b[00m\n",
      "\u001b[92mOral and/or Signed Communication:1<=1\u001b[00m\n",
      "\u001b[92mPhilosophical Inquiry and Life's Meanings:1<=1\u001b[00m\n",
      "\u001b[92mQuantitative Reasoning I:1<=8\u001b[00m\n",
      "\u001b[92mQuantitative Reasoning II:1<=8\u001b[00m\n",
      "\u001b[92mResearch and Information Literacy:2<=4\u001b[00m\n",
      "\u001b[92mScientific Inquiry I:1<=4\u001b[00m\n",
      "\u001b[92mSocial Inquiry I:1<=1\u001b[00m\n",
      "\u001b[92mScientific Inquiry II:1<=2 || Social Inquiry II:1<=1\u001b[00m\n",
      "\u001b[92mTeamwork/Collaboration:2<=6\u001b[00m\n",
      "\u001b[92mThe Individual in Community:1<=1\u001b[00m\n",
      "\u001b[92mWriting, Research, and Inquiry:1<=1\u001b[00m\n",
      "\u001b[92mWriting-Intensive Course:2<=2\u001b[00m\n",
      "{}\n"
     ]
    }
   ],
   "source": [
    "import numpy as np, re\n",
    "\n",
    "from collections.abc import Callable\n",
    "\n",
    "from typing import Tuple, Callable, Union\n",
    "\n",
    "from colors import colors\n",
    "\n",
    "search_for = {}\n",
    "\n",
    "def find_course_by(func: Callable) -> list[Course]:\n",
    "\n",
    "    return list(filter(func, list(course_directory.values())))\n",
    "\n",
    "def find_courses_with(hub: str) -> list[Course]:\n",
    "    return [c for c in course_directory.values() if hub in c.getHubs()]\n",
    "\n",
    "def course_reports(cs: list[Course]) -> None:\n",
    "    print(*[f'{c.__repr__()}: {c.getCourseName()} -> {c.getSemesters()} | {c.all_reqs} :: {c.getCredits()} ? {c.getHubs()}' for c in cs], sep='\\n')\n",
    "\n",
    "def hubs_acronym(hubs: Union[list[str], str]) -> list[str]:\n",
    "\n",
    "    if isinstance(hubs, list):\n",
    "\n",
    "        return [\"\".join([w[0] for w in re.split(r'[ /]+', h) if w != '']) for h in hubs]\n",
    "        \n",
    "    elif isinstance(hubs, str):\n",
    "\n",
    "        return \"\".join([w[0] for w in re.split(r'[ /]+', hubs) if w != ''])\n",
    "\n",
    "def hubs_report(cs: list[Course]) -> dict[str, int]:\n",
    "\n",
    "    total = np.unique(sum([c.getHubs() for c in cs], []), return_counts=True)\n",
    "\n",
    "    print(*[f'{hubs_acronym(name)}:{num}' for name, num in zip(*total, [])], sep='\\n')\n",
    "\n",
    "    hubs = {}\n",
    "\n",
    "    [hubs.__setitem__(name, num) for name, num in zip(*total)]\n",
    "\n",
    "    return hubs\n",
    "\n",
    "def get_match_score(c, hubs) -> int:\n",
    "\n",
    "    ch = c.getHubs()\n",
    "\n",
    "    return sum([1 if h in ch else 0 for h in hubs])\n",
    "\n",
    "def check_hub(hub: Union[list[str], str], num: Union[list[int], int]) -> Callable:\n",
    "\n",
    "    def check(user_hubs: dict[str, int]) -> bool:\n",
    "\n",
    "        if isinstance(hub, list):\n",
    "\n",
    "            return sum([h in user_hubs and int(user_hubs[h]) >= int(num) for h, num in zip(hub, num)]).__bool__()\n",
    "        \n",
    "        elif isinstance(hub, str):\n",
    "\n",
    "            return hub in user_hubs and int(user_hubs[hub]) >= int(num)\n",
    "\n",
    "        else:\n",
    "\n",
    "            raise TypeError(f\"hub arg should be of type str or list not {type(hub)}\")\n",
    "        \n",
    "    return check\n",
    "\n",
    "def load_requirements() -> list[str]:\n",
    "\n",
    "    with open('hub_requirements.txt', 'r') as hr:\n",
    "\n",
    "        return hr.read().split('\\n')\n",
    "\n",
    "def check_requirements() -> bool:\n",
    "\n",
    "    checks = [c for c in [l.split(':') if '||' not in l else np.array([o.split(':') for o in l.split(' || ')]).T.tolist() for l in load_requirements()]]\n",
    "\n",
    "    print([[hubs_acronym(c[0]), c[1]] for c in checks])\n",
    "\n",
    "    user_hubs = hubs_report(load_courses())\n",
    "\n",
    "    for check in checks:\n",
    "\n",
    "        output: str = f'{\":\".join([*check])}<={user_hubs.get(check[0], 0)}' if isinstance(check[0], str) else ' || '.join([f'{\":\".join([*ch])}<={user_hubs.get(ch[0], 0)}' for ch in np.array(check).T.tolist()])\n",
    "\n",
    "        if check_hub(*check)(user_hubs):\n",
    "\n",
    "            print(f'{colors[\"green\"]}{output}{colors[\"white\"]}')\n",
    "\n",
    "        else:\n",
    "\n",
    "            search_for[check[0]] = int(check[1]) - int(user_hubs.get(check[0], 0))\n",
    "\n",
    "            print(f'{colors[\"red\"]}{output}{colors[\"white\"]}')\n",
    "\n",
    "\n",
    "check_requirements()\n",
    "\n",
    "print(search_for)\n"
   ]
  },
  {
   "cell_type": "code",
   "execution_count": 21,
   "metadata": {},
   "outputs": [
    {
     "name": "stdout",
     "output_type": "stream",
     "text": [
      "CDS DS 109\n",
      "CDS DS 109\n",
      "ENG BF 527\n",
      "ENG BF 527\n",
      "ENG BF 528\n",
      "ENG BF 528\n",
      "CDS DS 110: Introduction to Data Science with Python -> [] | [] :: 4 ? ['Quantitative Reasoning I', 'Teamwork/Collaboration']\n",
      "CDS DS 120: Foundations of Data Science -> [] | [] :: 4 ? ['Quantitative Reasoning I']\n",
      "CDS DS 109:  -> [] | [] :: None ? []\n",
      "CAS CC 101: Core Humanities I: Ancient Worlds -> ['FALL'] | [] :: 4 ? ['Aesthetic Exploration', 'Creativity/Innovation', 'First-Year Writing Seminar']\n",
      "HUB IC 203: Pitching Ideas for Success -> ['FALL'] | [] :: 4 ? ['Digital/Multimedia Expression', 'Quantitative Reasoning I']\n",
      "CDS DS 210: Programming for Data Science -> [] | [CDS DS 110] :: 4 ? ['Quantitative Reasoning II', 'Digital/Multimedia Expression', 'Creativity/Innovation']\n",
      "CDS DS 121: Foundations of Data Science -> [] | [CDS DS 120] :: 4 ? ['Quantitative Reasoning I', 'Digital/Multimedia Expression', 'Critical Thinking']\n",
      "CDS DS 122: Foundations of Data Science -> [] | [CDS DS 120, CDS DS 110] :: 4 ? ['Quantitative Reasoning II', 'Critical Thinking']\n",
      "CAS CH 101: General Chemistry 1 -> ['SPRG', 'FALL'] | [] :: 4 ? ['Quantitative Reasoning I', 'Scientific Inquiry I']\n",
      "CAS MA 214: Applied Statistics -> ['SPRG', 'FALL'] | [CAS MA 213, CAS MA 115, CAS MA 113, CDS DS 120, CAS CS 237] :: 4 ? ['Critical Thinking', 'Quantitative Reasoning II', 'Teamwork/Collaboration']\n",
      "CAS CH 102: General Chemistry 2 -> ['SPRG', 'FALL'] | [] :: 4 ? ['Quantitative Reasoning I', 'Scientific Inquiry I']\n",
      "CDS DS 310: Data Mechanics -> [] | [CDS DS 210] :: 4 ? ['Quantitative Reasoning II', 'Critical Thinking']\n",
      "CAS CC 201: Core Humanities 3: Renaissance, Rediscovery, and Reformation -> ['FALL'] | [CAS CC 101, CAS WR 120] :: 4 ? ['Aesthetic Exploration', 'Research and Information Literacy', 'Writing, Research, and Inquiry']\n",
      "CAS BI 218: Cell Biology with Integrated Science Experience II Lab -> ['FALL'] | [CAS BI 116, CAS CH 116, CAS WR 120] :: 5 ? ['Quantitative Reasoning II', 'Scientific Inquiry II', 'Teamwork/Collaboration', 'Writing-Intensive Course']\n",
      "CAS CH 218: Organic Chemistry 1 with Integrated Science Experience II Lab -> ['FALL'] | [CAS CH 116, CAS BI 116, CAS NE 116] :: 4 ? ['Critical Thinking', 'Quantitative Reasoning I', 'Research and Information Literacy', 'Scientific Inquiry I']\n",
      "CDS DS 320: Algorithms for Data Science -> [] | [CDS DS 121, CDS DS 210] :: 4 ? ['Quantitative Reasoning II', 'Critical Thinking']\n",
      "CAS PY 211: General Physics I -> ['SPRG', 'FALL'] | [CAS MA 123, CAS MA 123] :: 4 ? ['Critical Thinking', 'Quantitative Reasoning I', 'Scientific Inquiry I', 'Teamwork/Collaboration']\n",
      "CAS BI 315: Systems Physiology -> ['SPRG', 'FALL'] | [CAS BI 108, ENG BE 209, CAS CH 101, CAS CH 102, CAS WR 120] :: 4 ? ['Critical Thinking', 'Scientific Inquiry II', 'Teamwork/Collaboration', 'Writing-Intensive Course']\n",
      "CAS BI 206: Genetics -> ['SPRG'] | [CAS BI 108, CAS CH 203] :: 4 ? ['Critical Thinking', 'Historical Consciousness', 'Quantitative Reasoning II']\n",
      "CDS DS 340: Introduction to Machine Learning and AI -> [] | [CDS DS 320] :: 4 ? ['Quantitative Reasoning II', 'Ethical Reasoning', 'Critical Thinking']\n",
      "CDS DS 596: Special Topics in Natural, Biological and Medical Sciences -> [] | [CDS DS 110, CDS DS 120, CDS DS 121, CDS DS 122] :: 4 ? []\n",
      "CDS DS 280: Spark! UX/UI Design -> [] | [] :: 2 ? ['Digital/Multimedia Expression']\n",
      "CAS BI 407: Animal Behavior -> ['FALL'] | [CAS BI 107] :: 4 ? ['Ethical Reasoning', \"Philosophical Inquiry and Life's Meanings\", 'Research and Information Literacy']\n",
      "CAS BI 552: Molecular Biology 1 -> ['FALL'] | [CAS BI 203, CAS BI 213, CAS BI 206, CAS BI 216] :: 4 ? []\n",
      "CDS DS 380: Data, Society and Ethics  -> [] | [CDS DS 110, CDS DS 320] :: 4 ? ['Ethical Reasoning', 'Social Inquiry II', 'Research and Information Literacy']\n",
      "QST BA 476: Machine Learning for Business Analytics -> ['FALL'] | [CAS CS 108, CAS CS 111, CDS DS 110, QST BA 222] :: 4 ? []\n",
      "CAS BI 449: Neuroscience Design Lab -> ['SPRG'] | [CAS BI 315, CAS BI 325, CAS NE 203] :: 4 ? []\n",
      "QST SI 480: The Business of Technology Innovation -> ['FALL'] | [] :: 4 ? ['Historical Consciousness', 'Social Inquiry I']\n",
      "CDS DS 519: Spark! Software Engineering X-Lab Practicum  -> [] | [CDS DS 310, CAS CS 411] :: 4 ? ['Ethical Reasoning', 'Oral and/or Signed Communication', 'Teamwork/Collaboration']\n",
      "CDS DS 526: Critical Reading in Biological Data Science -> [] | [] :: 4 ? []\n",
      "CAS BI 560: Systems Biology -> ['FALL'] | [CAS BI 552] :: 4 ? []\n",
      "QST SI 482: Strategy for Technology-Based Firms -> ['FALL'] | [QST FE 323, QST MK 323, QST OM 323, QST QM 323, QST SI 480] :: 4 ? []\n",
      "ENG BF 527:  -> [] | [] :: None ? []\n",
      "ENG BF 528:  -> [] | [] :: None ? []\n",
      "QST BA 472: Business Experiments and Causal Methods -> ['FALL'] | [CAS CS 108, CAS CS 111, CDS DS 110, QST BA 222] :: 4 ? []\n",
      "CAS BI 576: Carcinogenesis -> ['SPRG'] | [CAS BI 203, CAS BI 206, CAS BI 552] :: 4 ? []\n"
     ]
    }
   ],
   "source": [
    "course_reports(courses)"
   ]
  },
  {
   "cell_type": "code",
   "execution_count": 8,
   "metadata": {},
   "outputs": [
    {
     "data": {
      "text/plain": [
       "[CAS XL 541,\n",
       " HUB CC 120,\n",
       " HUB CC 123,\n",
       " HUB CC 125,\n",
       " HUB CC 127,\n",
       " HUB CC 128,\n",
       " HUB CC 130,\n",
       " HUB CC 131,\n",
       " HUB CC 133,\n",
       " HUB CC 135,\n",
       " HUB CC 182,\n",
       " HUB CC 192,\n",
       " HUB CC 193,\n",
       " HUB CC 220,\n",
       " HUB CC 232,\n",
       " HUB CC 280,\n",
       " HUB CC 282,\n",
       " HUB CC 283,\n",
       " HUB FY 101,\n",
       " HUB SA 220,\n",
       " HUB SA 225,\n",
       " HUB SA 230,\n",
       " HUB SA 330]"
      ]
     },
     "execution_count": 8,
     "metadata": {},
     "output_type": "execute_result"
    }
   ],
   "source": [
    "choices = [c for c in find_course_by(lambda c: False if c.getCredits() is None else c.getCredits() <= 0 and 1 <= get_match_score(c, list(search_for.keys())))]\n",
    "choices"
   ]
  }
 ],
 "metadata": {
  "kernelspec": {
   "display_name": "Python 3",
   "language": "python",
   "name": "python3"
  },
  "language_info": {
   "codemirror_mode": {
    "name": "ipython",
    "version": 3
   },
   "file_extension": ".py",
   "mimetype": "text/x-python",
   "name": "python",
   "nbconvert_exporter": "python",
   "pygments_lexer": "ipython3",
   "version": "3.11.1"
  }
 },
 "nbformat": 4,
 "nbformat_minor": 2
}
