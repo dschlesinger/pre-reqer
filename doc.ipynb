{
 "cells": [
  {
   "cell_type": "markdown",
   "metadata": {},
   "source": [
    "## Query Courses"
   ]
  },
  {
   "cell_type": "markdown",
   "metadata": {},
   "source": [
    "### To load pickle file"
   ]
  },
  {
   "cell_type": "code",
   "execution_count": 1,
   "metadata": {},
   "outputs": [],
   "source": [
    "from course import Course\n",
    "import pickle\n",
    "\n",
    "# Should take around a minute, pickle file is in Drive linked in README\n",
    "with open(\"courses_directory.pkl\", \"rb\") as f: \n",
    "    course_directory: dict[str, Course] = pickle.load(f) "
   ]
  },
  {
   "cell_type": "code",
   "execution_count": 2,
   "metadata": {},
   "outputs": [],
   "source": [
    "# To JSON File\n",
    "\n",
    "from dataclasses import dataclass\n",
    "\n",
    "@dataclass\n",
    "class json_comp():\n",
    "\n",
    "    college: str # ex CAS\n",
    "    department: str # ex BI\n",
    "    number: str # ex 203\n",
    "\n",
    "    desc: str # Blurb on webpage\n",
    "\n",
    "    valid_link: bool # if webpage exists\n",
    "\n",
    "    uprereqs: list[str] # Undergrad Pre reqs\n",
    "    gprereqs: list[str] # Grad Pre Reqs\n",
    "\n",
    "    uprereqstext: str\n",
    "    gprereqstext: str\n",
    "\n",
    "    ucoreqs: list[str] # Undergrad Co reqs\n",
    "    gcoreqs: list[str] # Grad Co Reqs\n",
    "\n",
    "    ucoreqstext: str\n",
    "    gcoreqstext: str\n",
    "\n",
    "    post: list[str] # Classes lead to\n",
    "\n",
    "    hubs: list[str] # Hubs satisifed\n",
    "  \n",
    "\n",
    "to_json: dict[str, json_comp] = {}\n",
    "\n",
    "for name, _class in zip(course_directory.keys(), course_directory.values()):\n",
    "\n",
    "    to_json.__setitem__(name, json_comp(\n",
    "        college=_class.College,\n",
    "        department=_class.Department,\n",
    "        number=_class.Number,\n",
    "        desc=_class.getDesc(),\n",
    "        valid_link=_class.valid_link,\n",
    "        uprereqs=[c.__repr__() for c in _class.UndergradReq],\n",
    "        gprereqs=[c.__repr__() for c in _class.GradReq],\n",
    "        ucoreqs=[c.__repr__() for c in _class.UndergradCoReq],\n",
    "        gcoreqs=[c.__repr__() for c in _class.GradCoReq],\n",
    "        uprereqstext=_class.getPreReqsText()['upr'] if 'upr' in _class.getPreReqsText() else \"\",\n",
    "        gprereqstext=_class.getPreReqsText()['gpr'] if 'gpr' in _class.getPreReqsText() else \"\",\n",
    "        ucoreqstext=_class.getPreReqsText()['ucr'] if 'ucr' in _class.getPreReqsText() else \"\",\n",
    "        gcoreqstext=_class.getPreReqsText()['gcr'] if 'gcr' in _class.getPreReqsText() else \"\",\n",
    "        post=[c.__repr__() for c in _class.Post],\n",
    "        hubs=_class.getHubs()\n",
    "    ).__dict__)"
   ]
  },
  {
   "cell_type": "markdown",
   "metadata": {},
   "source": [
    "### Find Class"
   ]
  },
  {
   "cell_type": "code",
   "execution_count": 10,
   "metadata": {},
   "outputs": [],
   "source": [
    "College: str = \"CAS\" # Three letter acronym like \"CAS\"\n",
    "Department: str = \"BI\" # Two letter acronym like \"BI\"\n",
    "Number: int = 203 # Three numbers like \"203\"\n",
    "\n",
    "c: Course = course_directory[f\"{College} {Department} {Number}\"]"
   ]
  },
  {
   "cell_type": "markdown",
   "metadata": {},
   "source": [
    "### Methods"
   ]
  },
  {
   "cell_type": "markdown",
   "metadata": {},
   "source": [
    "#### Get Course Name, Code, and Attr"
   ]
  },
  {
   "cell_type": "code",
   "execution_count": 11,
   "metadata": {},
   "outputs": [],
   "source": [
    "College, Department, Number = c.College, c.Department, c.Number\n",
    "\n",
    "code: str = c.__repr__() # ex. CAS BI 203 \n",
    "\n",
    "class_name: str = c.getCourseName() # ex. Cell Biology"
   ]
  },
  {
   "cell_type": "markdown",
   "metadata": {},
   "source": [
    "#### Get PreReqs and CoReqs and Attr"
   ]
  },
  {
   "cell_type": "code",
   "execution_count": 12,
   "metadata": {},
   "outputs": [],
   "source": [
    "pre_pres, co_reqs, leads_to = [c.UndergradReq + c.GradReq, \\\n",
    "                                c.UndergradCoReq + c.GradCoReq, c.Post]\n",
    "\n",
    "# Returns clips with relivant info for course reqs\n",
    "pre_req_text: dict[str, str] = c.getPreReqsText()"
   ]
  },
  {
   "cell_type": "markdown",
   "metadata": {},
   "source": [
    "#### Hubs"
   ]
  },
  {
   "cell_type": "code",
   "execution_count": 13,
   "metadata": {},
   "outputs": [],
   "source": [
    "Hubs: list[str] = c.getHubs()"
   ]
  },
  {
   "cell_type": "markdown",
   "metadata": {},
   "source": [
    "#### Semesters Offered"
   ]
  },
  {
   "cell_type": "code",
   "execution_count": 14,
   "metadata": {},
   "outputs": [],
   "source": [
    "semesters: list[str] = c.getSemesters()"
   ]
  },
  {
   "cell_type": "markdown",
   "metadata": {},
   "source": [
    "#### tmi (to much information)"
   ]
  },
  {
   "cell_type": "code",
   "execution_count": 15,
   "metadata": {},
   "outputs": [
    {
     "data": {
      "text/plain": [
       "'CAS BI 203 (Cell Biology) = R [CAS BI 108, CAS NE 102, CAS CH 102] C [CAS CH 203] '"
      ]
     },
     "execution_count": 15,
     "metadata": {},
     "output_type": "execute_result"
    }
   ],
   "source": [
    "c.tmi() # returns str"
   ]
  },
  {
   "cell_type": "markdown",
   "metadata": {},
   "source": [
    "#### Webpage and url"
   ]
  },
  {
   "cell_type": "code",
   "execution_count": 16,
   "metadata": {},
   "outputs": [],
   "source": [
    "from bs4 import BeautifulSoup\n",
    "\n",
    "website: BeautifulSoup = c.webpage\n",
    "\n",
    "description: str = c.getDesc() # id='course-content' of course page\n",
    "\n",
    "url: str = c.url\n",
    "\n",
    "link: str = c.link # kwarg for c.__init__() for web scraping\n",
    "\n",
    "valid_link: bool = c.valid_link # False if page not found"
   ]
  },
  {
   "cell_type": "markdown",
   "metadata": {},
   "source": [
    "## Construct Course"
   ]
  },
  {
   "cell_type": "code",
   "execution_count": null,
   "metadata": {},
   "outputs": [],
   "source": [
    "# Careful with this one, it will overwrite the pickle file and remove the Post list if you provide it the course_directory\n",
    "\n",
    "name: str = \"CAS BI 203\"\n",
    "\n",
    "c: Course = Course(name, link=None, cd={})"
   ]
  },
  {
   "cell_type": "markdown",
   "metadata": {},
   "source": [
    "## Webscraping"
   ]
  },
  {
   "cell_type": "code",
   "execution_count": null,
   "metadata": {},
   "outputs": [],
   "source": [
    "# Caution does a lot, broken have to declare BUCourseBranch class in same place as course_directory\n",
    "\n",
    "from main import BUCourseBranch\n",
    "\n",
    "save_branch = BUCourseBranch()\n",
    "\n",
    "save_branch.run() # or save_branch.__repr__()"
   ]
  }
 ],
 "metadata": {
  "kernelspec": {
   "display_name": "Python 3",
   "language": "python",
   "name": "python3"
  },
  "language_info": {
   "codemirror_mode": {
    "name": "ipython",
    "version": 3
   },
   "file_extension": ".py",
   "mimetype": "text/x-python",
   "name": "python",
   "nbconvert_exporter": "python",
   "pygments_lexer": "ipython3",
   "version": "3.10.15"
  }
 },
 "nbformat": 4,
 "nbformat_minor": 2
}
